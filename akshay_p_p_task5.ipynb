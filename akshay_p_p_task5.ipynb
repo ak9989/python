{
  "nbformat": 4,
  "nbformat_minor": 0,
  "metadata": {
    "colab": {
      "provenance": []
    },
    "kernelspec": {
      "name": "python3",
      "display_name": "Python 3"
    },
    "language_info": {
      "name": "python"
    }
  },
  "cells": [
    {
      "cell_type": "markdown",
      "source": [
        "  1. Write a Python program to create a class representing a Circle. Include methods to calculate its area and perimeter."
      ],
      "metadata": {
        "id": "ny42RIUQdGn6"
      }
    },
    {
      "cell_type": "code",
      "source": [
        "class circle:\n",
        "    def __init__(self,radius,pie):\n",
        "        self.r=radius\n",
        "        self.p=pie\n",
        "    def area(self):\n",
        "        print(self.p*(self.r**2))\n",
        "    def perimeter(self):\n",
        "        print(2*self.p*self.r)"
      ],
      "metadata": {
        "id": "Co4-oNIJda_W"
      },
      "execution_count": null,
      "outputs": []
    },
    {
      "cell_type": "code",
      "source": [
        "circle1=circle(10,3.14)\n",
        "print(\"the area of circle is \")\n",
        "circle1.area()\n",
        "print(\"the perimeter of circle is\")\n",
        "circle1.perimeter()"
      ],
      "metadata": {
        "colab": {
          "base_uri": "https://localhost:8080/"
        },
        "id": "G0o_8-TQdomd",
        "outputId": "cf1510fc-2046-4762-ce9d-1fea72befa4a"
      },
      "execution_count": null,
      "outputs": [
        {
          "output_type": "stream",
          "name": "stdout",
          "text": [
            "the area of circle is \n",
            "314.0\n",
            "the perimeter of circle is\n",
            "62.800000000000004\n"
          ]
        }
      ]
    },
    {
      "cell_type": "markdown",
      "source": [
        "2. Write a Python program to create a calculator class. Include methods for basic arithmetic operations.\n"
      ],
      "metadata": {
        "id": "YVKDuUbIdGdf"
      }
    },
    {
      "cell_type": "code",
      "source": [
        "class calculator:\n",
        "    def __init__(self,number1,number2):\n",
        "        self.num1=number1\n",
        "        self.num2=number2\n",
        "    def num(self):\n",
        "        print(self.num1,self.num2)\n",
        "    def addition(self):\n",
        "        print(self.num1+self.num2)\n",
        "    def substration(self):\n",
        "        print(self.num1-self.num2)\n",
        "    def multiplication(self):\n",
        "        print(self.num1*self.num2)\n",
        "    def divition(self):\n",
        "        print(self.num1/self.num2)\n",
        "\n",
        "add1=calculator(10,5)\n",
        "print(\"the sum of two numbers is\")\n",
        "add1.addition()\n",
        "sub=calculator(20,2)\n",
        "print(\"the difference between two numbers is\")\n",
        "sub.substration()\n",
        "multi=calculator(5,6)\n",
        "print(\"the multiplication of two numbers is\")\n",
        "multi.multiplication()\n",
        "div=calculator(50,5)\n",
        "print(\"the division of two numbers is\")\n",
        "div.divition()\n"
      ],
      "metadata": {
        "colab": {
          "base_uri": "https://localhost:8080/"
        },
        "id": "zEsns8a1dbwl",
        "outputId": "3db53339-90f8-4312-95d1-abd23bff4391"
      },
      "execution_count": null,
      "outputs": [
        {
          "output_type": "stream",
          "name": "stdout",
          "text": [
            "the sum of two numbers is\n",
            "15\n",
            "the difference between two numbers is\n",
            "18\n",
            "the multiplication of two numbers is\n",
            "30\n",
            "the division of two numbers is\n",
            "10.0\n"
          ]
        }
      ]
    },
    {
      "cell_type": "markdown",
      "source": [
        "3. Write a Python program to create a class that represents a shape. Include methods to calculate its area and perimeter. Implement subclasses for different shapes like circle, triangle, and square.\n",
        "\n"
      ],
      "metadata": {
        "id": "XcLRgY8RdGPq"
      }
    },
    {
      "cell_type": "code",
      "source": [
        "class shape:\n",
        "    def __init__(self,length,breadth):\n",
        "        self.len=length\n",
        "        self.b=breadth\n",
        "    def area(self):\n",
        "        print(\"area is\")\n",
        "    def perimeter(self):\n",
        "        print(\"perimeter is\")\n",
        "\n",
        "class square(shape):\n",
        "    def __init(self,length,breadth):\n",
        "        self.len=length\n",
        "        self.b=breadth\n",
        "    def area(self):\n",
        "        print(self.len*self.b)\n",
        "    def perimeter(self):\n",
        "        print(self.len+self.b)\n",
        "\n",
        "\n",
        "class triangle(shape):\n",
        "    def __init__(self,sideA,sideB,sideC,height):\n",
        "        self.sa=sideA\n",
        "        self.sb=sideB\n",
        "        self.sc=sideC\n",
        "        self.h=height\n",
        "    def area(self):\n",
        "        print(1/2*(self.sb*self.h))\n",
        "    def perimeter(self):\n",
        "        print(self.sa+self.sb+self.sc)\n",
        "\n",
        "class circle(shape):\n",
        "    def __init__(self,radius,pi_value):\n",
        "        self.r=radius\n",
        "        self.pi=pi_value\n",
        "\n",
        "    def area(self):\n",
        "        print(self.pi*(self.r**2))\n",
        "\n",
        "    def perimeter(self):\n",
        "        print(2*self.pi*self.r)\n",
        "\n",
        "s1=square(5,5)\n",
        "print(\"area of square is\")\n",
        "s1.area()\n",
        "print(\"perimeter of square is\")\n",
        "s1.perimeter()\n",
        "t1=triangle(4,5,6,4)\n",
        "print(\"area of triangle\")\n",
        "t1.area()\n",
        "print(\"perimeter of triangle\")\n",
        "t1.perimeter()\n",
        "\n",
        "c1=circle(10,3)\n",
        "print(\"area of circle\")\n",
        "c1.area()\n",
        "print(\"perimeter of circle\")\n",
        "c1.perimeter()\n"
      ],
      "metadata": {
        "colab": {
          "base_uri": "https://localhost:8080/"
        },
        "id": "tg2fZlq-dcbh",
        "outputId": "98f4d2a9-a02b-4568-aa4e-cbeec7314cea"
      },
      "execution_count": null,
      "outputs": [
        {
          "output_type": "stream",
          "name": "stdout",
          "text": [
            "area of square is\n",
            "25\n",
            "perimeter of square is\n",
            "10\n",
            "area of triangle\n",
            "10.0\n",
            "perimeter of triangle\n",
            "15\n",
            "area of circle\n",
            "300\n",
            "perimeter of circle\n",
            "60\n"
          ]
        }
      ]
    }
  ]
}
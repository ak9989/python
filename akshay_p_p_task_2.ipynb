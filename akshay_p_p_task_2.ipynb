{
  "nbformat": 4,
  "nbformat_minor": 0,
  "metadata": {
    "colab": {
      "provenance": []
    },
    "kernelspec": {
      "name": "python3",
      "display_name": "Python 3"
    },
    "language_info": {
      "name": "python"
    }
  },
  "cells": [
    {
      "cell_type": "markdown",
      "source": [
        "1. Write a python program to find those numbers which are divisible by 7 and multiples of 5"
      ],
      "metadata": {
        "id": "0GtW_AEmpOpX"
      }
    },
    {
      "cell_type": "code",
      "source": [
        "a=int(input('enter the number '))\n",
        "if a%7==0:\n",
        "    print(\"the number is divisible by 7\")\n",
        "if a%5==0:\n",
        "        print(\"the number is multiple of 5\")\n",
        "else:\n",
        "    print (\"the number is not divisible by 7\")\n"
      ],
      "metadata": {
        "colab": {
          "base_uri": "https://localhost:8080/"
        },
        "id": "KeGVKJdspSfO",
        "outputId": "db56767b-f7f1-4c21-8e86-cdc77b46df13"
      },
      "execution_count": null,
      "outputs": [
        {
          "output_type": "stream",
          "name": "stdout",
          "text": [
            "enter the number 4\n",
            "the number is not divisible by 7\n"
          ]
        }
      ]
    },
    {
      "cell_type": "markdown",
      "source": [
        "2. Write a python program to check the user input is even or odd or zero"
      ],
      "metadata": {
        "id": "TquWMpU7pUpt"
      }
    },
    {
      "cell_type": "code",
      "source": [
        "i=int(input('enter the number'))\n",
        "if i==0:\n",
        "    print(\"the number is Zero\")\n",
        "elif i%2==0:\n",
        "    print(\"the number is Even\")\n",
        "else:\n",
        "    print(\"the nmber is odd\")"
      ],
      "metadata": {
        "colab": {
          "base_uri": "https://localhost:8080/"
        },
        "id": "U1cx1hCDpZ4b",
        "outputId": "e1a69d00-b0f0-40ab-d837-d7077ee13bb6"
      },
      "execution_count": null,
      "outputs": [
        {
          "output_type": "stream",
          "name": "stdout",
          "text": [
            "enter the number5\n",
            "the nmber is odd\n"
          ]
        }
      ]
    },
    {
      "cell_type": "markdown",
      "source": [
        "3.  Print decimal part of an input number. If the decimal part is zero print the string : “INTEGER”"
      ],
      "metadata": {
        "id": "yTBFx0OapaM5"
      }
    },
    {
      "cell_type": "code",
      "source": [
        "a=float(input('Enter the number'))\n",
        "b=a-int(a)\n",
        "if b==0:\n",
        "    print('INTEGER')\n",
        "else:\n",
        "    print('decimal part is',round(b,2))\n"
      ],
      "metadata": {
        "colab": {
          "base_uri": "https://localhost:8080/"
        },
        "id": "OfZyhPsDpeEn",
        "outputId": "b12db037-f99b-4646-8184-ba2c4b1f1531"
      },
      "execution_count": null,
      "outputs": [
        {
          "output_type": "stream",
          "name": "stdout",
          "text": [
            "Enter the number5\n",
            "INTEGER\n"
          ]
        }
      ]
    }
  ]
}
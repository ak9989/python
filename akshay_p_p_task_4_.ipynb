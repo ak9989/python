{
  "nbformat": 4,
  "nbformat_minor": 0,
  "metadata": {
    "colab": {
      "provenance": []
    },
    "kernelspec": {
      "name": "python3",
      "display_name": "Python 3"
    },
    "language_info": {
      "name": "python"
    }
  },
  "cells": [
    {
      "cell_type": "code",
      "execution_count": null,
      "metadata": {
        "id": "3wG8ieroY61V"
      },
      "outputs": [],
      "source": []
    },
    {
      "cell_type": "markdown",
      "source": [
        "1. Write a program to create a function show_employee() using the following conditions.\n",
        "It should accept the employee’s name and salary and display both.\n",
        "If the salary is missing in the function call then assign default value 9000 to salary\n"
      ],
      "metadata": {
        "id": "zqbedqE0Y8JQ"
      }
    },
    {
      "cell_type": "code",
      "source": [
        "def show_Employee(name,salary=9000):\n",
        "    print(\"Name :\", name ,\"Salary :\",salary)\n",
        "\n",
        "result1=show_Employee(\"akshay\",12000)\n",
        "result2=show_Employee(\"amal\")"
      ],
      "metadata": {
        "colab": {
          "base_uri": "https://localhost:8080/"
        },
        "id": "1OZ2Ioo_wYml",
        "outputId": "979498be-f622-499f-c6f8-48a2b6cb5299"
      },
      "execution_count": 1,
      "outputs": [
        {
          "output_type": "stream",
          "name": "stdout",
          "text": [
            "Name : akshay Salary : 12000\n",
            "Name : amal Salary : 9000\n"
          ]
        }
      ]
    },
    {
      "cell_type": "markdown",
      "source": [
        "2. Create an inner function to calculate the addition in the following way\n",
        "Create an outer function that will accept two parameters, a and b\n",
        "Create an inner function inside an outer function that will calculate the addition of a and b\n",
        "At last, an outer function will add 5 into addition and return it\n"
      ],
      "metadata": {
        "id": "ud2JnG1gY8w1"
      }
    },
    {
      "cell_type": "code",
      "source": [
        "def outsum(x,y):\n",
        "    def innsum(a,b):\n",
        "      return a+b\n",
        "\n",
        "    sum_a =innsum(x,y)\n",
        "    se_sum = sum_a +5\n",
        "    return se_sum\n",
        "result =outsum(3,7)\n",
        "print(result)"
      ],
      "metadata": {
        "colab": {
          "base_uri": "https://localhost:8080/"
        },
        "id": "bFj8GF6Bwv0M",
        "outputId": "d20452d6-bd2f-4518-c21d-ed38eb82dc31"
      },
      "execution_count": 7,
      "outputs": [
        {
          "output_type": "stream",
          "name": "stdout",
          "text": [
            "15\n"
          ]
        }
      ]
    },
    {
      "cell_type": "code",
      "source": [],
      "metadata": {
        "id": "OCidGLVjw1c4"
      },
      "execution_count": 5,
      "outputs": []
    },
    {
      "cell_type": "markdown",
      "source": [
        "3. Generate a Python list of all the even numbers between 4 to 30\n"
      ],
      "metadata": {
        "id": "lL0JGh2HY81K"
      }
    },
    {
      "cell_type": "code",
      "source": [
        "q=[]\n",
        "for a in range(4,31):\n",
        "    if a%2==0:\n",
        "        q.append(a)\n",
        "print(q)"
      ],
      "metadata": {
        "colab": {
          "base_uri": "https://localhost:8080/"
        },
        "id": "S9j6IcR60s2k",
        "outputId": "44f7fcb5-e1b5-49dc-9e56-505389834b26"
      },
      "execution_count": 8,
      "outputs": [
        {
          "output_type": "stream",
          "name": "stdout",
          "text": [
            "[4, 6, 8, 10, 12, 14, 16, 18, 20, 22, 24, 26, 28, 30]\n"
          ]
        }
      ]
    },
    {
      "cell_type": "markdown",
      "source": [
        "4. lambda Function to Check if value is in a List"
      ],
      "metadata": {
        "id": "nd5MlFrIY842"
      }
    },
    {
      "cell_type": "code",
      "source": [
        "value=[1,2,3,4,5]\n",
        "v=int(input(\"enter the number\"))\n",
        "chek=lambda value ,v:True if v in value else False\n",
        "if chek(value,v):\n",
        "    print(\"The element is present\")\n",
        "else:\n",
        "    print(\"The element is not present\")"
      ],
      "metadata": {
        "colab": {
          "base_uri": "https://localhost:8080/"
        },
        "id": "V42SrRVi0x94",
        "outputId": "32ac7e91-9370-43a3-c7f2-508b457e73b4"
      },
      "execution_count": 10,
      "outputs": [
        {
          "output_type": "stream",
          "name": "stdout",
          "text": [
            "enter the number9\n",
            "The element is not present\n"
          ]
        }
      ]
    },
    {
      "cell_type": "markdown",
      "source": [
        "5. Sort list of tuples with their sum\n"
      ],
      "metadata": {
        "id": "WJ7Wu54lY88I"
      }
    },
    {
      "cell_type": "code",
      "source": [
        "points = [(1, 2), (5, 3), (0, 7), (3, 1)]\n",
        "sumpoints=0\n",
        "q=[]\n",
        "for i in points:\n",
        "    a,b=i\n",
        "    sumpoints=a+b\n",
        "    q.append(sumpoints)\n",
        "    q.sort()\n",
        "print(q)"
      ],
      "metadata": {
        "colab": {
          "base_uri": "https://localhost:8080/"
        },
        "id": "wKxkYDPA06zl",
        "outputId": "0d776e8c-219d-4ac1-db22-418d4faa90d4"
      },
      "execution_count": 11,
      "outputs": [
        {
          "output_type": "stream",
          "name": "stdout",
          "text": [
            "[3, 4, 7, 8]\n"
          ]
        }
      ]
    },
    {
      "cell_type": "markdown",
      "source": [
        "6. Write a python function, which will find all such numbers between 1000 and 3000 (both included) such that each digit of the number is an even number. Return the results as a list\n",
        "\n"
      ],
      "metadata": {
        "id": "oO6cXcshY8_m"
      }
    },
    {
      "cell_type": "code",
      "source": [
        "l1=[]\n",
        "for i in range (1000,3001):\n",
        "    digits=[int(digit)for digit in str(i)]\n",
        "    if all (digit%2==0 and digit!=0 for digit in digits):\n",
        "        l1.append(i)\n",
        "print(l1)"
      ],
      "metadata": {
        "colab": {
          "base_uri": "https://localhost:8080/"
        },
        "id": "yVQsoBfo1AXQ",
        "outputId": "327a0ca8-a43f-4b65-e421-5f6b6973cb36"
      },
      "execution_count": 12,
      "outputs": [
        {
          "output_type": "stream",
          "name": "stdout",
          "text": [
            "[2222, 2224, 2226, 2228, 2242, 2244, 2246, 2248, 2262, 2264, 2266, 2268, 2282, 2284, 2286, 2288, 2422, 2424, 2426, 2428, 2442, 2444, 2446, 2448, 2462, 2464, 2466, 2468, 2482, 2484, 2486, 2488, 2622, 2624, 2626, 2628, 2642, 2644, 2646, 2648, 2662, 2664, 2666, 2668, 2682, 2684, 2686, 2688, 2822, 2824, 2826, 2828, 2842, 2844, 2846, 2848, 2862, 2864, 2866, 2868, 2882, 2884, 2886, 2888]\n"
          ]
        }
      ]
    },
    {
      "cell_type": "markdown",
      "source": [
        "7. Write a python function that accepts a sentence and calculate and return the number of letters and digits.\n",
        "Suppose the following input is supplied to the program:\n",
        "hello world! 123\n",
        "Then, the output should be:\n",
        "LETTERS 10\n",
        "DIGITS 3\n"
      ],
      "metadata": {
        "id": "wCHVyQjZY9Cv"
      }
    },
    {
      "cell_type": "code",
      "source": [
        "l2=[]\n",
        "s1=input(\"enter a string :\")\n",
        "for i in s1:\n",
        "    if i.isnumeric():\n",
        "        l2.append(i)\n",
        "l2\n",
        "print(len(l2))\n",
        "l3=[]\n",
        "for i in s1:\n",
        "    if i.isupper():\n",
        "        l3.append(i)\n",
        "l3\n",
        "print(len(l3))\n"
      ],
      "metadata": {
        "colab": {
          "base_uri": "https://localhost:8080/"
        },
        "id": "AaoIYDtX1GR1",
        "outputId": "6acc4db3-fb53-4f46-8bce-14d763834399"
      },
      "execution_count": 17,
      "outputs": [
        {
          "output_type": "stream",
          "name": "stdout",
          "text": [
            "enter a string :AKSHAY848374873\n",
            "9\n",
            "6\n"
          ]
        }
      ]
    },
    {
      "cell_type": "markdown",
      "source": [
        "8. Write a Python program to convert all the characters into uppercase and lowercase and eliminate duplicate letters from a given sequence. Use the map() function\n"
      ],
      "metadata": {
        "id": "nZ3c96jmY9F5"
      }
    },
    {
      "cell_type": "code",
      "source": [
        "sequence_1 = input(\"Enter a sentence :\")\n",
        "seq_upp = map(lambda x:x.upper() , sequence_1)\n",
        "seq_low = map(lambda x: x.lower() , sequence_1)\n",
        "for i in seq_upp:\n",
        "    print(i)\n",
        "print(\"break\")\n",
        "for a in seq_low:\n",
        "    print(a)"
      ],
      "metadata": {
        "colab": {
          "base_uri": "https://localhost:8080/"
        },
        "id": "wWPAXWy-13wT",
        "outputId": "e5a6a431-ae43-4e2a-d175-47781385c4ce"
      },
      "execution_count": 24,
      "outputs": [
        {
          "output_type": "stream",
          "name": "stdout",
          "text": [
            "Enter a sentence :AKShay HAlloo\n",
            "A\n",
            "K\n",
            "S\n",
            "H\n",
            "A\n",
            "Y\n",
            " \n",
            "H\n",
            "A\n",
            "L\n",
            "L\n",
            "O\n",
            "O\n",
            "break\n",
            "a\n",
            "k\n",
            "s\n",
            "h\n",
            "a\n",
            "y\n",
            " \n",
            "h\n",
            "a\n",
            "l\n",
            "l\n",
            "o\n",
            "o\n"
          ]
        }
      ]
    },
    {
      "cell_type": "markdown",
      "source": [
        "9. Write a Python program to element wise add two given lists and find the difference between them. Use the map() function\n"
      ],
      "metadata": {
        "id": "uOBIBgoaY9Iu"
      }
    },
    {
      "cell_type": "code",
      "source": [
        "l1=[2,3,4,5,6]\n",
        "l2=[1,1,1,2,2]\n",
        "result=map(lambda x,y:x-y ,l1,l2)\n",
        "print(list(result))"
      ],
      "metadata": {
        "colab": {
          "base_uri": "https://localhost:8080/"
        },
        "id": "qu0v74Ci2HxT",
        "outputId": "1d8e6e94-213f-4c73-90a7-b5da3eb2884b"
      },
      "execution_count": 25,
      "outputs": [
        {
          "output_type": "stream",
          "name": "stdout",
          "text": [
            "[1, 2, 3, 3, 4]\n"
          ]
        }
      ]
    },
    {
      "cell_type": "markdown",
      "source": [
        "10. Write a Python program to filter the height and weight of students, which are stored in a dictionary using lambda.\n",
        "Original Dictionary:\n",
        "{'Cierra Vega': (6.2, 71), 'Alden Cantrell': (5.9, 65), 'Kierra Gentry': (6.0, 68), 'Pierre Cox': (5.8, 66)}\n",
        "Height> 6ft and Weight> 70kg:\n",
        "{'Cierra Vega': (6.2, 71)}\n"
      ],
      "metadata": {
        "id": "W1yprTWNY9Lo"
      }
    },
    {
      "cell_type": "code",
      "source": [
        "dictionary_1 = {'Cierra Vega': (6.2, 71), 'Alden Cantrell': (5.9, 65), 'Kierra Gentry': (6.0, 68), 'Pierre Cox': (5.8, 66)}\n",
        "dictionary_2 = filter(lambda i:dictionary_1[i][0]>6 and dictionary_1[i][1]>70 , dictionary_1)\n",
        "for i in dictionary_2:\n",
        "    print({i:dictionary_1[i]})\n",
        ""
      ],
      "metadata": {
        "colab": {
          "base_uri": "https://localhost:8080/"
        },
        "id": "iS0KSz552y7r",
        "outputId": "889abefe-de15-4199-e4dd-fbbf6bac0ed1"
      },
      "execution_count": 26,
      "outputs": [
        {
          "output_type": "stream",
          "name": "stdout",
          "text": [
            "{'Cierra Vega': (6.2, 71)}\n"
          ]
        }
      ]
    },
    {
      "cell_type": "markdown",
      "source": [
        "11. Write a Python program to remove all elements from a given list present in another list using lambda.\n",
        "Original lists:\n",
        "list1: [1, 2, 3, 4, 5, 6, 7, 8, 9, 10]\n",
        "list2: [2, 4, 6, 8]\n",
        "Remove all elements from 'list1' present in 'list2:\n",
        "[1, 3, 5, 7, 9, 10]\n"
      ],
      "metadata": {
        "id": "ckyzbDSdY9OQ"
      }
    },
    {
      "cell_type": "code",
      "source": [
        "list_1 = [1, 2, 3, 4, 5, 6, 7, 8, 9, 10]\n",
        "list_2 = [2, 4, 6, 8]\n",
        "list_3 = filter(lambda x: x not in list_2,list_1)\n",
        "list(list_3)"
      ],
      "metadata": {
        "colab": {
          "base_uri": "https://localhost:8080/"
        },
        "id": "1CB6b0ao3E50",
        "outputId": "5e09660f-52d0-43b5-9a22-ae88dc964ef1"
      },
      "execution_count": 27,
      "outputs": [
        {
          "output_type": "execute_result",
          "data": {
            "text/plain": [
              "[1, 3, 5, 7, 9, 10]"
            ]
          },
          "metadata": {},
          "execution_count": 27
        }
      ]
    },
    {
      "cell_type": "markdown",
      "source": [
        "12.\n",
        "\n",
        "Write a Python program to calculate the product of a given list of numbers using lambda.\n",
        "list1: [1, 2, 3, 4, 5, 6, 7, 8, 9, 10]\n",
        "Product of the said list numbers:\n",
        "3628800\n"
      ],
      "metadata": {
        "id": "vKE26DRKY9la"
      }
    },
    {
      "cell_type": "code",
      "source": [
        "from functools import reduce\n",
        "list_1=[1,2,3,4,5,6,7,8,9,10]\n",
        "result=reduce(lambda a,b:a*b,list_1)\n",
        "print(result)"
      ],
      "metadata": {
        "colab": {
          "base_uri": "https://localhost:8080/"
        },
        "id": "uC9TlSrM4UBR",
        "outputId": "f6bdf4ab-b306-4c9f-8724-8274a94ba5fc"
      },
      "execution_count": 28,
      "outputs": [
        {
          "output_type": "stream",
          "name": "stdout",
          "text": [
            "3628800\n"
          ]
        }
      ]
    },
    {
      "cell_type": "markdown",
      "source": [
        "13. Write a Python program to multiply all the numbers in a given list using lambda.\n",
        "Original list:\n",
        "[4, 3, 2, 2, -1, 18]\n",
        "Mmultiply all the numbers of the said list: -864\n",
        "\n",
        "\n"
      ],
      "metadata": {
        "id": "YQmk6maaZ8jd"
      }
    },
    {
      "cell_type": "code",
      "source": [
        "lis=[4, 3, 2, 2, -1, 18]\n",
        "def product(x,y):\n",
        "    return x*y\n",
        "r1=reduce(product,lis)\n",
        "print(r1)"
      ],
      "metadata": {
        "colab": {
          "base_uri": "https://localhost:8080/"
        },
        "id": "BSdzCntY4mfm",
        "outputId": "fbe9aaf2-b160-4b20-aee8-66b2e7ec67ff"
      },
      "execution_count": 29,
      "outputs": [
        {
          "output_type": "stream",
          "name": "stdout",
          "text": [
            "-864\n"
          ]
        }
      ]
    },
    {
      "cell_type": "markdown",
      "source": [
        "14. Write a Python program to calculate the average value of the numbers in a given tuple of tuples using lambda.\n",
        "Original Tuple:\n",
        "((10, 10, 10), (30, 45, 56), (81, 80, 39), (1, 2, 3))\n",
        "Average value of the numbers of the said tuple of tuples:\n",
        "(30.5, 34.25, 27.0)\n"
      ],
      "metadata": {
        "id": "NoCEebeLaDb1"
      }
    },
    {
      "cell_type": "code",
      "source": [
        "from functools import reduce\n",
        "t1 = ((10, 10, 10), (30, 45, 56), (81, 80, 39), (1, 2, 3))\n",
        "for i in t1:\n",
        "    list[i]\n",
        "    print(i)\n",
        "    f=reduce(lambda a,b:a+b,i)\n",
        "    print(f/3)"
      ],
      "metadata": {
        "colab": {
          "base_uri": "https://localhost:8080/"
        },
        "id": "2uMsmaXH4vWf",
        "outputId": "850a775a-e436-413d-9ca8-a7590b22369b"
      },
      "execution_count": 31,
      "outputs": [
        {
          "output_type": "stream",
          "name": "stdout",
          "text": [
            "(10, 10, 10)\n",
            "10.0\n",
            "(30, 45, 56)\n",
            "43.666666666666664\n",
            "(81, 80, 39)\n",
            "66.66666666666667\n",
            "(1, 2, 3)\n",
            "2.0\n"
          ]
        }
      ]
    },
    {
      "cell_type": "markdown",
      "source": [
        "15. Write a Python program to sort a given mixed list of integers and strings using lambda. Numbers must be sorted before strings.\n",
        "Original list:\n",
        "[19, 'red', 12, 'green', 'blue', 10, 'white', 'green', 1]\n",
        "Sort the said mixed list of integers and strings:\n",
        "[1, 10, 12, 19, 'blue', 'green', 'green', 'red', 'white']\n"
      ],
      "metadata": {
        "id": "zKDxPTiyaImk"
      }
    },
    {
      "cell_type": "code",
      "source": [
        "list1=[19, 'red', 12, 'green', 'blue', 10, 'white', 'green', 1]\n",
        "strlist=[]\n",
        "numlist=[]\n",
        "strlist = list(filter(lambda x: isinstance(x, str), list1))\n",
        "numlist = list(filter(lambda x: isinstance(x, (int)), list1))\n",
        "numlist.sort()\n",
        "strlist.sort()\n",
        "print(numlist+strlist)"
      ],
      "metadata": {
        "colab": {
          "base_uri": "https://localhost:8080/"
        },
        "id": "LGsLkCVD5K9W",
        "outputId": "85a4c9c5-2ee5-454b-9ad1-0bd3015329bc"
      },
      "execution_count": 33,
      "outputs": [
        {
          "output_type": "stream",
          "name": "stdout",
          "text": [
            "[1, 10, 12, 19, 'blue', 'green', 'green', 'red', 'white']\n"
          ]
        }
      ]
    },
    {
      "cell_type": "markdown",
      "source": [
        "16. Write a Python program to count the occurrences of items in a given list using lambda.\n",
        "Original list:\n",
        "[3, 4, 5, 8, 0, 3, 8, 5, 0, 3, 1, 5, 2, 3, 4, 2]\n",
        "Count the occurrences of the items in the said list:\n",
        "{3: 4, 4: 2, 5: 3, 8: 2, 0: 2, 1: 1, 2: 2}\n"
      ],
      "metadata": {
        "id": "Woeqrn7QaNfc"
      }
    },
    {
      "cell_type": "code",
      "source": [
        "list1=[3, 4, 5, 8, 0, 3, 8, 5, 0, 3, 1, 5, 2, 3, 4, 2]\n",
        "dic = dict(map(lambda x: (x, list1.count(x)), set(list1)))\n",
        "print(dic)"
      ],
      "metadata": {
        "colab": {
          "base_uri": "https://localhost:8080/"
        },
        "id": "ljeGLUUg5R_k",
        "outputId": "718ff5ba-0c6d-4f1e-c624-eb1fb0f395d3"
      },
      "execution_count": 34,
      "outputs": [
        {
          "output_type": "stream",
          "name": "stdout",
          "text": [
            "{0: 2, 1: 1, 2: 2, 3: 4, 4: 2, 5: 3, 8: 2}\n"
          ]
        }
      ]
    },
    {
      "cell_type": "markdown",
      "source": [
        "17. Write a Python program to remove None values from a given list using the lambda function.\n",
        "Original list:\n",
        "[12, 0, None, 23, None, -55, 234, 89, None, 0, 6, -12]\n",
        "Remove None value from the said list:\n",
        "[12, 0, 23, -55, 234, 89, 0, 6, -12]\n"
      ],
      "metadata": {
        "id": "SHmgMf43aRHO"
      }
    },
    {
      "cell_type": "code",
      "source": [
        "list_a = [12, 0, None, 23, None, -55, 234, 89, None, 0, 6, -12]\n",
        "list_r = list(filter(lambda x: x is not None, list_a))\n",
        "list_r"
      ],
      "metadata": {
        "colab": {
          "base_uri": "https://localhost:8080/"
        },
        "id": "yLLpJY_h5XQL",
        "outputId": "c7117b7b-90dd-4cce-9c11-b7c86bd6a933"
      },
      "execution_count": 35,
      "outputs": [
        {
          "output_type": "execute_result",
          "data": {
            "text/plain": [
              "[12, 0, 23, -55, 234, 89, 0, 6, -12]"
            ]
          },
          "metadata": {},
          "execution_count": 35
        }
      ]
    }
  ]
}
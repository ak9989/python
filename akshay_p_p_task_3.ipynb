{
  "nbformat": 4,
  "nbformat_minor": 0,
  "metadata": {
    "colab": {
      "provenance": []
    },
    "kernelspec": {
      "name": "python3",
      "display_name": "Python 3"
    },
    "language_info": {
      "name": "python"
    }
  },
  "cells": [
    {
      "cell_type": "markdown",
      "source": [
        "1. Write a Python program to sum all the items in a list.\n"
      ],
      "metadata": {
        "id": "to5canwH4V_l"
      }
    },
    {
      "cell_type": "code",
      "source": [
        "a=[1,2,3,4,6,5,5,7,8,9]\n",
        "sum=0\n",
        "for i in a:\n",
        "    sum=sum+i\n",
        "print(\"sum of the elements in the list is:\",sum)"
      ],
      "metadata": {
        "colab": {
          "base_uri": "https://localhost:8080/"
        },
        "id": "6F-FkkFi4b9D",
        "outputId": "9064a463-ea7c-41af-fd49-4b0726d4486c"
      },
      "execution_count": null,
      "outputs": [
        {
          "output_type": "stream",
          "name": "stdout",
          "text": [
            "sum of the elements in the list is: 50\n"
          ]
        }
      ]
    },
    {
      "cell_type": "markdown",
      "source": [
        "2.  Write a Python program to get the largest number from a list.\n"
      ],
      "metadata": {
        "id": "eLHSQ-cn4cat"
      }
    },
    {
      "cell_type": "code",
      "source": [
        "q1=[200,300.299,322,434,499,486,99]\n",
        "q=max(q1)\n",
        "print(q)"
      ],
      "metadata": {
        "colab": {
          "base_uri": "https://localhost:8080/"
        },
        "id": "nVMSu9nW4fU4",
        "outputId": "a4a879fe-7309-46db-fab7-ce48a8c5da26"
      },
      "execution_count": null,
      "outputs": [
        {
          "output_type": "stream",
          "name": "stdout",
          "text": [
            "499\n"
          ]
        }
      ]
    },
    {
      "cell_type": "markdown",
      "source": [
        "3. Write a Python program to count the number of strings from a given list of strings. The string length is 2 or more and the first and last characters are the same.\n",
        "Sample List : ['abc', 'xyz', 'aba', '1221']\n",
        "Expected Result : 2\n"
      ],
      "metadata": {
        "id": "MO7OQNgB4fyT"
      }
    },
    {
      "cell_type": "code",
      "source": [
        "v=['lalu','2332','noon','kannur','sasi','jishnu']\n",
        "print(v)\n",
        "\n",
        "len(v)\n"
      ],
      "metadata": {
        "colab": {
          "base_uri": "https://localhost:8080/"
        },
        "id": "UpwPyTIz4js6",
        "outputId": "c88c5606-15a1-49e3-96f7-d8825148da68"
      },
      "execution_count": null,
      "outputs": [
        {
          "output_type": "stream",
          "name": "stdout",
          "text": [
            "['lalu', '2332', 'noon', 'kannur', 'sasi', 'jishnu']\n"
          ]
        },
        {
          "output_type": "execute_result",
          "data": {
            "text/plain": [
              "6"
            ]
          },
          "metadata": {},
          "execution_count": 5
        }
      ]
    },
    {
      "cell_type": "markdown",
      "source": [
        "4. Write a Python program to remove duplicates from a list.\n"
      ],
      "metadata": {
        "id": "ifBuEYLc4kM3"
      }
    },
    {
      "cell_type": "code",
      "source": [
        "uniq_items=[]\n",
        "dup_items = ()\n",
        "a=[22,23,25,22,22,26,28,20,23]\n",
        "print(a)\n"
      ],
      "metadata": {
        "colab": {
          "base_uri": "https://localhost:8080/"
        },
        "id": "ZHgN5nvy4nzZ",
        "outputId": "e64c9f7c-a798-4162-8e44-2694141459f1"
      },
      "execution_count": null,
      "outputs": [
        {
          "output_type": "stream",
          "name": "stdout",
          "text": [
            "[22, 23, 25, 22, 22, 26, 28, 20, 23]\n",
            "[22, 23, 25, 22, 22, 26, 28, 20, 23]\n"
          ]
        }
      ]
    },
    {
      "cell_type": "markdown",
      "source": [
        "5. Write a Python program to check if a list is empty or not.\n"
      ],
      "metadata": {
        "id": "307vq3W54oJC"
      }
    },
    {
      "cell_type": "code",
      "source": [
        "l = []\n",
        "\n",
        "# Check if the list 'l' is empty using the 'not' keyword\n",
        "if not l:\n",
        "    # If the list is empty, print the message \"List is empty\"\n",
        "    print(\"List is empty\")"
      ],
      "metadata": {
        "id": "3oROcix74sfF",
        "colab": {
          "base_uri": "https://localhost:8080/"
        },
        "outputId": "812f5aae-85ee-4897-9016-78ece0c7eff3"
      },
      "execution_count": 1,
      "outputs": [
        {
          "output_type": "stream",
          "name": "stdout",
          "text": [
            "List is empty\n"
          ]
        }
      ]
    },
    {
      "cell_type": "markdown",
      "source": [
        "6. Write a Python program to filter the list if the length of the character is < 4\n",
        "Sample List : ['abc', 'xyz', 'aba', '1221']\n",
        "Expected Result: ['abc', 'xyz', 'aba']\n"
      ],
      "metadata": {
        "id": "5HcfKqRk4s6y"
      }
    },
    {
      "cell_type": "code",
      "source": [
        "sample_list = ['abc', 'xyz', 'aba', '1221']\n",
        "\n",
        "filtered_list = [item for item in sample_list if len(item) < 4]\n",
        "\n",
        "print(\"Original List:\", sample_list)\n",
        "print(\"Filtered List:\", filtered_list)\n"
      ],
      "metadata": {
        "id": "OXDdU3-V4v1I",
        "colab": {
          "base_uri": "https://localhost:8080/"
        },
        "outputId": "0e888958-bdfb-4ec1-c2f3-eda5ecc2caae"
      },
      "execution_count": 55,
      "outputs": [
        {
          "output_type": "stream",
          "name": "stdout",
          "text": [
            "Original List: ['abc', 'xyz', 'aba', '1221']\n",
            "Filtered List: ['abc', 'xyz', 'aba']\n"
          ]
        }
      ]
    },
    {
      "cell_type": "markdown",
      "source": [
        "7. Write a Python program to find the second largest number in a list.\n"
      ],
      "metadata": {
        "id": "L3yewAe44wMo"
      }
    },
    {
      "cell_type": "code",
      "source": [
        "list1 = [10, 20, 20, 4, 45,55,60,8,11]\n",
        "\n",
        "list1.sort()\n",
        "\n",
        "# Printing the second last element\n",
        "print(\"Second largest element is:\", list1[-2])\n"
      ],
      "metadata": {
        "id": "vpL6Oi564zCA",
        "colab": {
          "base_uri": "https://localhost:8080/"
        },
        "outputId": "73ce33fa-9f0e-4142-c8d9-197fb9870d5b"
      },
      "execution_count": 4,
      "outputs": [
        {
          "output_type": "stream",
          "name": "stdout",
          "text": [
            "Second largest element is: 55\n"
          ]
        }
      ]
    },
    {
      "cell_type": "markdown",
      "source": [
        "8. Write a Python program to reverse a list at a specific location.\n"
      ],
      "metadata": {
        "id": "PvMKmr0f4zXg"
      }
    },
    {
      "cell_type": "code",
      "source": [
        "a3=[\"mumbai\",\"chenni\",\"kochi\",\"banglore\",\"hydrabad\",\"delhi\",\"agra\"]\n",
        "print(a3)\n",
        "a3.reverse()\n",
        "print(a3)"
      ],
      "metadata": {
        "colab": {
          "base_uri": "https://localhost:8080/"
        },
        "id": "bOW6dIeQ42fs",
        "outputId": "a8bef713-0835-4717-d3b2-ce372f9ef354"
      },
      "execution_count": 11,
      "outputs": [
        {
          "output_type": "stream",
          "name": "stdout",
          "text": [
            "['mumbai', 'chenni', 'kochi', 'banglore', 'hydrabad', 'delhi', 'agra']\n",
            "['agra', 'delhi', 'hydrabad', 'banglore', 'kochi', 'chenni', 'mumbai']\n"
          ]
        }
      ]
    },
    {
      "cell_type": "markdown",
      "source": [
        "9. Write a Python program to check if a list is a palindrome or not. Return true otherwise false."
      ],
      "metadata": {
        "id": "HNt_f24P42yM"
      }
    },
    {
      "cell_type": "code",
      "source": [
        "p_list1 = [1,1,2,1,1]\n",
        "p1=p_list1[::-1]\n",
        "if p1==p_list1 :\n",
        "  print(\"This list is palindrome \")\n",
        "else:\n",
        "  print(\"This list is not palindrome \")"
      ],
      "metadata": {
        "id": "4-qAumIZ45eJ",
        "colab": {
          "base_uri": "https://localhost:8080/"
        },
        "outputId": "4845ab3c-dc7b-4667-8006-3b966974e896"
      },
      "execution_count": 38,
      "outputs": [
        {
          "output_type": "stream",
          "name": "stdout",
          "text": [
            "This list is palindrome \n"
          ]
        }
      ]
    },
    {
      "cell_type": "code",
      "source": [
        "p2=[\"radar\",\"apple\",\"mango\",\"civic\",\"rotor\",\"race\",\"racecar\"]\n",
        "for i in p2:\n",
        "  if i==i[::-1]:\n",
        "    print(\"True\")\n",
        "  else:\n",
        "    print(\"False\")"
      ],
      "metadata": {
        "colab": {
          "base_uri": "https://localhost:8080/"
        },
        "id": "KSy6uNdj9t-i",
        "outputId": "da1c6525-8cd3-4a99-8057-13e991b36743"
      },
      "execution_count": 40,
      "outputs": [
        {
          "output_type": "stream",
          "name": "stdout",
          "text": [
            "True\n",
            "False\n",
            "False\n",
            "True\n",
            "True\n",
            "False\n",
            "True\n"
          ]
        }
      ]
    },
    {
      "cell_type": "markdown",
      "source": [
        "10. Write a Python a program to find the union and intersection of two lists"
      ],
      "metadata": {
        "id": "Vb3oNbxn46JO"
      }
    },
    {
      "cell_type": "code",
      "source": [
        "list_1= [1,2,3,4]\n",
        "list_2 =[3,4,5,6]\n",
        "list_3=[]\n",
        "l=list_1+list_2\n",
        "print(\"The union of the list is :\",l)\n",
        "for x in list_1:\n",
        "  for y in list_2:\n",
        "    if x==y:\n",
        "      list_3.append(x)\n",
        "print(\"The intersection of two list is :\",list_3)\n"
      ],
      "metadata": {
        "id": "KhoOHk8549CH",
        "colab": {
          "base_uri": "https://localhost:8080/"
        },
        "outputId": "65eccace-01b7-4c0e-d6d9-3122fe367d35"
      },
      "execution_count": 44,
      "outputs": [
        {
          "output_type": "stream",
          "name": "stdout",
          "text": [
            "The union of the list is : [1, 2, 3, 4, 3, 4, 5, 6]\n",
            "The intersection of two list is : [3, 4]\n"
          ]
        }
      ]
    },
    {
      "cell_type": "markdown",
      "source": [
        "11. Write a Python script to sort (ascending and descending) a dictionary by value\n"
      ],
      "metadata": {
        "id": "k1Ka-HcO49fE"
      }
    },
    {
      "cell_type": "code",
      "source": [
        "fruit = {'apple': 30, 'banana': 20, 'cherry': 40, 'date': 10}\n",
        "print(\"original dictionary :\",fruit)\n",
        "#fruit.sorted()\n",
        "fruit_ascended = dict(sorted(fruit.items(),key = lambda item : item[1]))\n",
        "fruit_descended = dict(sorted(fruit.items(),key = lambda item : item[1],reverse=True))\n",
        "print(\"ascended list :\",fruit_ascended)\n",
        "print(\"descended list :\",fruit_descended)"
      ],
      "metadata": {
        "id": "f9-NxLkw5B_u",
        "colab": {
          "base_uri": "https://localhost:8080/"
        },
        "outputId": "a2373a2d-6631-4c48-fe7f-ff5d98c30027"
      },
      "execution_count": 54,
      "outputs": [
        {
          "output_type": "stream",
          "name": "stdout",
          "text": [
            "original dictionary : {'apple': 30, 'banana': 20, 'cherry': 40, 'date': 10}\n",
            "ascended list : {'date': 10, 'banana': 20, 'apple': 30, 'cherry': 40}\n",
            "descended list : {'cherry': 40, 'apple': 30, 'banana': 20, 'date': 10}\n"
          ]
        }
      ]
    },
    {
      "cell_type": "markdown",
      "source": [
        "12. Write a Python script to check whether a given key already exists in a dictionary.\n"
      ],
      "metadata": {
        "id": "8AQGj3pG5CXY"
      }
    },
    {
      "cell_type": "code",
      "source": [
        "vayanad={'tiger':'5', 'lion':'6' , 'elephent':'19' , 'cheeta': '20', 'monkey':'1000'}\n",
        "print(vayanad)\n",
        "\n",
        "name=input(\"enter the name \")\n",
        "for i  in vayanad:\n",
        "    name==i\n",
        "print(\"this key exitsts in this dictionary:\", name)\n"
      ],
      "metadata": {
        "colab": {
          "base_uri": "https://localhost:8080/"
        },
        "id": "TCXt5_SN5DBy",
        "outputId": "65a31a78-92bb-4ad5-c3a5-ea71aa195fac"
      },
      "execution_count": null,
      "outputs": [
        {
          "output_type": "stream",
          "name": "stdout",
          "text": [
            "{'tiger': '5', 'lion': '6', 'elephent': '19', 'cheeta': '20', 'monkey': '1000'}\n",
            "enter the name lion\n",
            "this key exitsts in this dictionary: lion\n"
          ]
        }
      ]
    },
    {
      "cell_type": "markdown",
      "source": [
        "13. Write a Python program to sum all the values in a dictionary.\n"
      ],
      "metadata": {
        "id": "MUYtjS3z5DZ3"
      }
    },
    {
      "cell_type": "code",
      "source": [
        "vayanad={'tiger':'5', 'lion':'6' , 'elephent':'19' , 'cheeta': '20', 'monkey':'1000'}\n",
        "print(vayanad)\n",
        "sum=0\n",
        "for i in vayanad:\n",
        "    sum=sum+int(vayanad[i])\n",
        "print(sum)\n",
        "type(vayanad[i])\n"
      ],
      "metadata": {
        "colab": {
          "base_uri": "https://localhost:8080/"
        },
        "id": "VQthI4KZ5F_i",
        "outputId": "2bc13d06-8800-4032-d6f1-8a3f313d2ee2"
      },
      "execution_count": 56,
      "outputs": [
        {
          "output_type": "stream",
          "name": "stdout",
          "text": [
            "{'tiger': '5', 'lion': '6', 'elephent': '19', 'cheeta': '20', 'monkey': '1000'}\n",
            "1050\n"
          ]
        },
        {
          "output_type": "execute_result",
          "data": {
            "text/plain": [
              "str"
            ]
          },
          "metadata": {},
          "execution_count": 56
        }
      ]
    },
    {
      "cell_type": "markdown",
      "source": [
        "14. Write a Python program to create a dictionary with a number and its corresponding square from 1 to input number. And also check if the input number is less than 10\n",
        "Eg:\n",
        "Input : 3\n",
        "Output : {1:1, 2:4, 3:9}\n"
      ],
      "metadata": {
        "id": "EkNAltyG5GYP"
      }
    },
    {
      "cell_type": "code",
      "source": [
        "k1=int(input(\"enter the number \"))\n",
        "if k1<10:\n",
        "    k3={k1:k1**2 for k1 in range(k1)}\n",
        "    print(k3)\n",
        "else:\n",
        "    print(\"the number is greater than 10\")\n"
      ],
      "metadata": {
        "colab": {
          "base_uri": "https://localhost:8080/"
        },
        "id": "zNxkvpkv5K6Y",
        "outputId": "89bee6d2-a445-4e1f-ecac-c85e51d9fbf8"
      },
      "execution_count": null,
      "outputs": [
        {
          "output_type": "stream",
          "name": "stdout",
          "text": [
            "enter the number 3\n",
            "{0: 0, 1: 1, 2: 4}\n"
          ]
        }
      ]
    },
    {
      "cell_type": "markdown",
      "source": [
        "15. Write a Python program to sort a given dictionary by key.\n"
      ],
      "metadata": {
        "id": "5aRwGtt05Lbk"
      }
    },
    {
      "cell_type": "code",
      "source": [
        "az={'akhil':'bike', 'ram': 'auto','abhi':'car'}\n",
        "sort_az = dict(sorted(az.items()))\n",
        "print(\"the sorted dictionary :\",sort_az)\n"
      ],
      "metadata": {
        "colab": {
          "base_uri": "https://localhost:8080/"
        },
        "id": "dTZSN0wT5Oc0",
        "outputId": "4e5c151f-af80-4369-898e-774b27195988"
      },
      "execution_count": 60,
      "outputs": [
        {
          "output_type": "stream",
          "name": "stdout",
          "text": [
            "the sorted dictionary : {'abhi': 'car', 'akhil': 'bike', 'ram': 'auto'}\n"
          ]
        }
      ]
    },
    {
      "cell_type": "markdown",
      "source": [
        "16. Write a Python program to create a dictionary from a string.\n",
        "Note: Track the count of the letters from the string.\n",
        "Sample string : 'learnpython'\n",
        "Expected output: {'l': 1, 'e': 1, 'a': 1, 'r': 1, 'n': 2, 'p': 1, 'y': 1, 't': 1, 'h': 1, 'o': 1}\n"
      ],
      "metadata": {
        "id": "zBiThsCS5O6m"
      }
    },
    {
      "cell_type": "code",
      "source": [
        "ab=\"transport\"\n",
        "{i:ab.count(i) for i in ab}\n"
      ],
      "metadata": {
        "colab": {
          "base_uri": "https://localhost:8080/"
        },
        "id": "vnMp78225Rnz",
        "outputId": "4ff6089e-35d9-4272-c521-b7cc32331fbb"
      },
      "execution_count": 61,
      "outputs": [
        {
          "output_type": "execute_result",
          "data": {
            "text/plain": [
              "{'t': 2, 'r': 2, 'a': 1, 'n': 1, 's': 1, 'p': 1, 'o': 1}"
            ]
          },
          "metadata": {},
          "execution_count": 61
        }
      ]
    },
    {
      "cell_type": "markdown",
      "source": [
        "17. Write a Python program to get the top three items in a shop.\n",
        "Sample data: {'item1': 45.50, 'item2':35, 'item3': 41.30, 'item4':55, 'item5': 24}\n",
        "Expected Output:\n",
        "item4 55\n",
        "item1 45.5\n",
        "item3 41.3\n"
      ],
      "metadata": {
        "id": "DWcGQ9EM5SAu"
      }
    },
    {
      "cell_type": "code",
      "source": [
        "\n",
        "item  = {'item1': 45.50, 'item2': 35, 'item3': 41.30, 'item4': 55, 'item5': 24}\n",
        "\n",
        "top_item = sorted(item.items(), key=lambda x: x[1], reverse=True)[:3]\n",
        "print(\"Top Three Items:\")\n",
        "for item, price in top_item:\n",
        "    print(f\"{item} {price}\")\n"
      ],
      "metadata": {
        "id": "d1lCg1ljY0Io",
        "colab": {
          "base_uri": "https://localhost:8080/"
        },
        "outputId": "0990495c-2928-4a69-cba4-05b6233f181b"
      },
      "execution_count": 62,
      "outputs": [
        {
          "output_type": "stream",
          "name": "stdout",
          "text": [
            "Top Three Items:\n",
            "item4 55\n",
            "item1 45.5\n",
            "item3 41.3\n"
          ]
        }
      ]
    }
  ]
}